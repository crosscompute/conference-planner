{
 "cells": [
  {
   "cell_type": "code",
   "execution_count": null,
   "id": "c11bdef0-cfef-4a3f-bb06-0da56aa7d38a",
   "metadata": {},
   "outputs": [],
   "source": [
    "# Purpose: Load csv from url to pandas data frame to display conference dates\n",
    "# Kashfi Fahim, May 31, 2022\n",
    "# https://raw.githubusercontent.com/python-organizers/conferences/master/2020.csv"
   ]
  },
  {
   "cell_type": "code",
   "execution_count": null,
   "id": "9f5b48ea-bbe3-4d1b-8605-6ddc270ec34b",
   "metadata": {},
   "outputs": [],
   "source": [
    "import pandas as pd"
   ]
  },
  {
   "cell_type": "code",
   "execution_count": null,
   "id": "f980fe4b-bf3a-49fb-adfc-1c5aac71c6e9",
   "metadata": {},
   "outputs": [],
   "source": [
    "# Loading the csv found from GitHub url\n",
    "url = \"https://raw.githubusercontent.com/python-organizers/conferences/master/2020.csv\"\n",
    "data = pd.read_csv(url)"
   ]
  },
  {
   "cell_type": "code",
   "execution_count": null,
   "id": "36297ebc-2aa3-4ebf-b27e-9a59d0a7dea1",
   "metadata": {},
   "outputs": [],
   "source": [
    "# Looking at the data\n",
    "data"
   ]
  },
  {
   "cell_type": "code",
   "execution_count": null,
   "id": "5baaa014-320e-4816-a4a5-afd8dff347f7",
   "metadata": {},
   "outputs": [],
   "source": [
    "# create calendar table from selected columns from data found in github \n",
    "calendar_frame = pd.DataFrame(\n",
    "    {\n",
    "        \"Conference\" : data[\"Subject\"],\n",
    "        \"Location\" : data[\"Location\"],\n",
    "        \"Website\" : data[\"Website URL\"],\n",
    "        \"Talk Deadline\" : data[\"Talk Deadline\"],\n",
    "    }\n",
    ")"
   ]
  },
  {
   "cell_type": "code",
   "execution_count": null,
   "id": "c4ad62f6-96f5-475b-abfb-6fb9c8747b32",
   "metadata": {},
   "outputs": [],
   "source": [
    "# sorting the data frame by Talk Deadline\n",
    "sort_by_talk_deadline = calendar_frame.sort_values(by='Talk Deadline')"
   ]
  },
  {
   "cell_type": "code",
   "execution_count": null,
   "id": "2c00cd7c-d116-4f44-bb84-61655f972a67",
   "metadata": {},
   "outputs": [],
   "source": [
    "# Check out the calendar_frame\n",
    "calendar_frame"
   ]
  },
  {
   "cell_type": "code",
   "execution_count": null,
   "id": "b61a71a7-4179-4ce8-9455-4c52455147df",
   "metadata": {},
   "outputs": [],
   "source": [
    "# Create markdown version\n",
    "markdown_calendar = calendar_frame.to_markdown()"
   ]
  },
  {
   "cell_type": "code",
   "execution_count": null,
   "id": "a9598f55-8d4b-4a0f-8c35-b225223e625b",
   "metadata": {},
   "outputs": [],
   "source": [
    "print(markdown_calendar)"
   ]
  },
  {
   "cell_type": "code",
   "execution_count": null,
   "id": "74b61243-2c86-44fc-ba76-642675bab1c3",
   "metadata": {},
   "outputs": [],
   "source": []
  }
 ],
 "metadata": {
  "kernelspec": {
   "display_name": "Python 3 (ipykernel)",
   "language": "python",
   "name": "python3"
  },
  "language_info": {
   "codemirror_mode": {
    "name": "ipython",
    "version": 3
   },
   "file_extension": ".py",
   "mimetype": "text/x-python",
   "name": "python",
   "nbconvert_exporter": "python",
   "pygments_lexer": "ipython3",
   "version": "3.9.1"
  }
 },
 "nbformat": 4,
 "nbformat_minor": 5
}
