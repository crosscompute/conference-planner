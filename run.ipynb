{
 "cells": [
  {
   "cell_type": "code",
   "execution_count": null,
   "id": "7082143e-a4f9-4c55-a105-3a62aadc89fe",
   "metadata": {
    "pycharm": {
     "name": "#%%\n"
    },
    "tags": []
   },
   "outputs": [],
   "source": [
    "from os import environ\n",
    "from pathlib import Path\n",
    "\n",
    "input_folder = Path(environ.get(\n",
    "    'CROSSCOMPUTE_INPUT_FOLDER', 'batches/standard/input'))\n",
    "output_folder = Path(environ.get(\n",
    "    'CROSSCOMPUTE_OUTPUT_FOLDER', 'batches/standard/output'))"
   ]
  },
  {
   "cell_type": "code",
   "execution_count": null,
   "id": "25c78709-70e4-45de-9662-12d052276291",
   "metadata": {
    "pycharm": {
     "name": "#%%\n"
    },
    "tags": []
   },
   "outputs": [],
   "source": [
    "import json\n",
    "from os.path import join\n",
    "\n",
    "with (input_folder / 'variables.dictionary').open('rt') as f:\n",
    "    variables = json.load(f)\n",
    "uri = variables['uri']\n",
    "# uri = 'https://github.com/python-organizers/conferences'\n",
    "# uri = 'https://github.com/python-organizers/conferences/blob/main/2022.csv'\n",
    "# uri = 'https://raw.githubusercontent.com/python-organizers/conferences/main/2022.csv'\n",
    "uri"
   ]
  },
  {
   "cell_type": "code",
   "execution_count": null,
   "id": "e3cdc360-95ce-47bb-8f1c-98193a0c6dac",
   "metadata": {
    "pycharm": {
     "name": "#%%\n"
    },
    "tags": []
   },
   "outputs": [],
   "source": [
    "import re\n",
    "\n",
    "PATH_REPOSITORY_PATTERN = re.compile(\n",
    "    r'^/(?P<user_name>[\\w\\d\\-_]+)/(?P<repository_name>[\\w\\d\\-_]+)', re.IGNORECASE)\n",
    "PATH_FILE_PATTERN = re.compile(\n",
    "    r'/blob/(?P<branch_name>[\\w\\d\\-_]+)/(?P<file_path>.*)$', re.IGNORECASE)\n",
    "FILE_EXTENSIONS = ['.csv']"
   ]
  },
  {
   "cell_type": "code",
   "execution_count": null,
   "id": "1850de21-7da3-44b9-a5ed-bf3604bacaa8",
   "metadata": {
    "pycharm": {
     "name": "#%%\n"
    },
    "tags": []
   },
   "outputs": [],
   "source": [
    "import requests\n",
    "\n",
    "def get_branch_name(user_name, repository_name):\n",
    "    request_uri = f'https://api.github.com/repos/{user_name}/{repository_name}'\n",
    "    response = requests.get(request_uri)\n",
    "    if response.status_code == 200:\n",
    "        response_d = response.json()\n",
    "        branch_name = response_d['default_branch']\n",
    "    else:\n",
    "        branch_name = 'master'\n",
    "    return branch_name\n",
    "\n",
    "def get_file_paths(user_name, repository_name, branch_name):\n",
    "    request_uri = f'https://api.github.com/repos/{user_name}/{repository_name}/git/trees/{branch_name}'\n",
    "    response = requests.get(request_uri)\n",
    "    file_paths = []\n",
    "    if response.status_code == 200:\n",
    "        response_d = response.json()\n",
    "        file_ds = response_d['tree']\n",
    "        # TODO: Consider getting paths from folders\n",
    "        file_paths.extend(_['path'] for _ in file_ds)\n",
    "    return file_paths"
   ]
  },
  {
   "cell_type": "code",
   "execution_count": null,
   "id": "798a5941-a0a6-4513-8715-de00f5c74a04",
   "metadata": {
    "tags": []
   },
   "outputs": [],
   "source": [
    "from os.path import splitext\n",
    "from urllib.parse import urlparse as parse_uri\n",
    "\n",
    "def get_source_uris(uri):\n",
    "    parsed_uri = parse_uri(uri)\n",
    "    hostname = parsed_uri.hostname\n",
    "    path = parsed_uri.path\n",
    "    source_uris = []\n",
    "    if hostname == 'github.com':\n",
    "        path_repository_match = PATH_REPOSITORY_PATTERN.match(path)\n",
    "        path_file_match = PATH_FILE_PATTERN.search(path)\n",
    "        if path_repository_match:\n",
    "            path_repository_d = path_repository_match.groupdict()\n",
    "            user_name = path_repository_d['user_name']\n",
    "            repository_name = path_repository_d['repository_name']\n",
    "            if path_file_match:\n",
    "                branch_name = path_repository_d['branch_name']\n",
    "            else:\n",
    "                branch_name = get_branch_name(user_name, repository_name)\n",
    "                for file_path in get_file_paths(user_name, repository_name, branch_name):\n",
    "                    file_extension = splitext(file_path)[1].lower()\n",
    "                    if file_extension not in FILE_EXTENSIONS:\n",
    "                        continue\n",
    "                    source_uris.append(\n",
    "                        f'https://raw.githubusercontent.com/{user_name}/{repository_name}/{branch_name}/{file_path}')\n",
    "    else:\n",
    "        source_uris.append(uri)\n",
    "    return sorted(source_uris)\n",
    "\n",
    "source_uris = get_source_uris(uri)\n",
    "source_uris"
   ]
  },
  {
   "cell_type": "code",
   "execution_count": null,
   "id": "d3e05c9f-56a2-41e3-9f72-93c8b67f6e9d",
   "metadata": {
    "pycharm": {
     "name": "#%%\n"
    },
    "tags": []
   },
   "outputs": [],
   "source": [
    "import pandas as pd\n",
    "\n",
    "source_tables = []\n",
    "for uri in source_uris:\n",
    "    try:\n",
    "        t = pd.read_csv(uri, parse_dates=[\n",
    "            'Start Date', 'End Date', 'Talk Deadline'])\n",
    "        source_tables.append(t)\n",
    "    except Exception:\n",
    "        pass\n",
    "source_table = pd.concat(source_tables)\n",
    "source_table.reset_index(inplace=True)"
   ]
  },
  {
   "cell_type": "code",
   "execution_count": null,
   "id": "41b76b47-0f15-4cdf-a81f-dd8614e08f76",
   "metadata": {},
   "outputs": [],
   "source": [
    "pd.notna(source_table['Talk Deadline'][173])"
   ]
  },
  {
   "cell_type": "code",
   "execution_count": null,
   "id": "2f8c0c91-37f7-43aa-97a6-1f08c0d83cd7",
   "metadata": {
    "pycharm": {
     "name": "#%%\n"
    },
    "tags": []
   },
   "outputs": [],
   "source": [
    "from datetime import datetime\n",
    "\n",
    "event_by_start_date = {}\n",
    "now = datetime.now()\n",
    "source_table.dropna(subset=['Start Date'], inplace=True)\n",
    "for index, row in source_table.iterrows():\n",
    "    start_date = row['Start Date']\n",
    "    end_date = row['End Date']\n",
    "    if now < start_date or now < end_date:\n",
    "        event_by_start_date[start_date] = row"
   ]
  },
  {
   "cell_type": "code",
   "execution_count": null,
   "id": "7d17308f-bffb-43cc-9e36-db94dafa92ee",
   "metadata": {
    "tags": []
   },
   "outputs": [],
   "source": [
    "# !!! TODO\n",
    "conference_events = []\n",
    "proposal_events = []\n",
    "\n",
    "for start_date in sorted(event_by_start_date):\n",
    "    event = event_by_start_date[start_date]\n",
    "    "
   ]
  },
  {
   "cell_type": "code",
   "execution_count": null,
   "id": "abf90b9c-dd20-4eb6-a053-672fa07778b1",
   "metadata": {
    "pycharm": {
     "name": "#%%\n"
    }
   },
   "outputs": [],
   "source": [
    "events = {}\n",
    "\n",
    "for row in next_events.iterrows():\n",
    "    key = f'{row[1]['Start Date'].year}-{row[1]['Start Date'].month}-{row[1]['Start Date'].day}'\n",
    "    near_events = events.get(key, [])\n",
    "    near_events.append(row[1])\n",
    "    events[key] = near_events\n",
    "\n",
    "proposals = {}\n",
    "for row in next_events.sort_values(by=['Talk Deadline']).iterrows():\n",
    "    # skip if no talk deadline\n",
    "    key = f'{row[1]['Talk Deadline'].year}-{row[1]['Talk Deadline'].month}-{row[1]['Talk Deadline'].day}'\n",
    "    near_events = proposals.get(key, [])\n",
    "    near_events.append(row[1])\n",
    "    proposals[key] = near_events\n",
    "\n",
    "events.keys()"
   ]
  },
  {
   "cell_type": "code",
   "execution_count": null,
   "id": "e4cec53b-16ee-4674-a824-e96c2c7039bd",
   "metadata": {
    "pycharm": {
     "name": "#%%\n"
    }
   },
   "outputs": [],
   "source": [
    "# TODO: remove newlines\n",
    "# TODO: Improve formatting\n",
    "# TODO: make separate batch for conferences important or interesting to us\n",
    "\n",
    "lines = [\n",
    "  '# Conference Planner',\n",
    "]\n",
    "\n",
    "lines.append('## Upcoming Deadlines')\n",
    "for key, current_events in proposals.items():\n",
    "    deadline = get_date_or_default(key)\n",
    "    if deadline <= datetime.now():\n",
    "        continue\n",
    "    line = deadline.strftime('### %A, %B %d, %Y\\n')\n",
    "    lines.append(line)\n",
    "\n",
    "    for event in current_events:\n",
    "        line = f'- [{event['Subject']} Talk Proposals Due]({event['Proposal URL']})\\n\\n'\n",
    "        lines.append(line)\n",
    "\n",
    "line = '## Upcoming Conferences\\n'\n",
    "lines.append(line)\n",
    "for (key, current_events) in events.items():\n",
    "    deadline = get_date_or_default(key)\n",
    "    if deadline <= datetime.now():\n",
    "        continue\n",
    "    line = deadline.strftime('### %A, %B %d, %Y\\n')\n",
    "    lines.append(line)\n",
    "\n",
    "    for event in current_events:\n",
    "        line = f'- [{event['Subject']}]({event['Website URL']})\\n\\n'\n",
    "        lines.append(line)\n",
    "\n",
    "lines"
   ]
  },
  {
   "cell_type": "code",
   "execution_count": null,
   "id": "b8ec1a85-0bf8-4faf-a8fd-d23489d0f434",
   "metadata": {
    "pycharm": {
     "name": "#%%\n"
    }
   },
   "outputs": [],
   "source": [
    "with (output_folder / 'calendar.md').open('wt') as f:\n",
    "    f.write('\\n'.join(lines))"
   ]
  }
 ],
 "metadata": {
  "kernelspec": {
   "display_name": "Python 3 (ipykernel)",
   "language": "python",
   "name": "python3"
  },
  "language_info": {
   "codemirror_mode": {
    "name": "ipython",
    "version": 3
   },
   "file_extension": ".py",
   "mimetype": "text/x-python",
   "name": "python",
   "nbconvert_exporter": "python",
   "pygments_lexer": "ipython3",
   "version": "3.10.10"
  }
 },
 "nbformat": 4,
 "nbformat_minor": 5
}
