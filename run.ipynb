{
 "cells": [
  {
   "cell_type": "code",
   "execution_count": 1,
   "id": "7082143e-a4f9-4c55-a105-3a62aadc89fe",
   "metadata": {
    "pycharm": {
     "name": "#%%\n"
    }
   },
   "outputs": [],
   "source": [
    "from os import environ\n",
    "input_folder = environ.get('CROSSCOMPUTE_INPUT_FOLDER', 'batches/standard/input')\n",
    "output_folder = environ.get('CROSSCOMPUTE_OUTPUT_FOLDER', 'batches/standard/output')"
   ]
  },
  {
   "cell_type": "code",
   "execution_count": 2,
   "id": "25c78709-70e4-45de-9662-12d052276291",
   "metadata": {
    "pycharm": {
     "name": "#%%\n"
    }
   },
   "outputs": [
    {
     "data": {
      "text/plain": [
       "'https://github.com/python-organizers/conferences'"
      ]
     },
     "execution_count": 2,
     "metadata": {},
     "output_type": "execute_result"
    }
   ],
   "source": [
    "import json\n",
    "from os.path import join\n",
    "variables = json.load(open(join(input_folder, 'variables.dictionary')))\n",
    "uri = variables['uri']\n",
    "uri"
   ]
  },
  {
   "cell_type": "code",
   "execution_count": 3,
   "id": "c4a63d58-32df-44df-8063-64bd3cd2ad7f",
   "metadata": {
    "pycharm": {
     "name": "#%%\n"
    }
   },
   "outputs": [
    {
     "data": {
      "text/plain": [
       "['https://raw.githubusercontent.com/python-organizers/conferences/main/2017.csv',\n",
       " 'https://raw.githubusercontent.com/python-organizers/conferences/main/2018.csv',\n",
       " 'https://raw.githubusercontent.com/python-organizers/conferences/main/2019.csv',\n",
       " 'https://raw.githubusercontent.com/python-organizers/conferences/main/2020.csv',\n",
       " 'https://raw.githubusercontent.com/python-organizers/conferences/main/2021.csv',\n",
       " 'https://raw.githubusercontent.com/python-organizers/conferences/main/2022.csv',\n",
       " 'https://raw.githubusercontent.com/python-organizers/conferences/main/2023.csv']"
      ]
     },
     "execution_count": 3,
     "metadata": {},
     "output_type": "execute_result"
    }
   ],
   "source": [
    "from urllib.parse import urlparse\n",
    "import requests\n",
    "import re\n",
    "\n",
    "import pandas as pd\n",
    "\n",
    "url = urlparse(uri)\n",
    "# url = urlparse(\"https://github.com/python-organizers/conferences\")\n",
    "# url = urlparse(\"https://github.com/python-organizers/conferences/blob/main/2022.csv\")\n",
    "# url = urlparse(\"https://raw.githubusercontent.com/python-organizers/conferences/main/2022.csv\")\n",
    "hostname = url.hostname\n",
    "path = url.path\n",
    "\n",
    "github = re.compile(r\"^github.com$\", re.IGNORECASE)\n",
    "raw_github = re.compile(r\"^raw.githubusercontent.com$\", re.IGNORECASE)\n",
    "extensions = re.compile(r'\\.(csv|txt)$', re.IGNORECASE)\n",
    "file = re.compile('^/(?P<username>[\\w\\d\\-_]+)/(?P<repo>[\\w\\d\\-_]+)/blob/(?P<branch>[\\w\\d\\-_]+)/(?P<filepath>.*)$', re.IGNORECASE)\n",
    "repo = re.compile('^/(?P<username>[\\w\\d\\-_]+)/(?P<repo>[\\w\\d\\-_]+)$', re.IGNORECASE)\n",
    "\n",
    "\n",
    "csv_urls = []\n",
    "\n",
    "def get_branch_from_repo(username, repo):\n",
    "    repo_api = f\"https://api.github.com/repos/{username}/{repo}\"\n",
    "    response = requests.get(repo_api)\n",
    "    if response.status_code == 200:\n",
    "        repo_json = response.json()\n",
    "        return repo_json[\"default_branch\"]\n",
    "        \n",
    "\n",
    "    return 'master'\n",
    "\n",
    "def get_files_from_repo(username, repo, branch):\n",
    "    repo_api =  f\"https://api.github.com/repos/{username}/{repo}/git/trees/{branch}\"\n",
    "    response = requests.get(repo_api)\n",
    "    if response.status_code == 200:\n",
    "        trees_json = response.json()\n",
    "        return trees_json['tree']\n",
    "        \n",
    "    return []\n",
    "\n",
    "\n",
    "if github.match(hostname):\n",
    "    if repo.match(path):\n",
    "        path_dict = repo.match(path).groupdict()\n",
    "        username = path_dict['username']\n",
    "        repo = path_dict['repo']\n",
    "        branch = get_branch_from_repo(username, repo)\n",
    "        files = get_files_from_repo(username, repo, branch)\n",
    "        for file_metadata in files:\n",
    "            if extensions.search(file_metadata['path']):\n",
    "                csv_urls.append(f\"https://raw.githubusercontent.com/{username}/{repo}/{branch}/{file_metadata['path']}\")\n",
    "                    \n",
    "    elif file.match(path):\n",
    "        path_dict = file.match(path).groupdict()\n",
    "        username = path_dict['username']\n",
    "        repo = path_dict['repo']\n",
    "        branch = path_dict['branch']\n",
    "        filepath = path_dict['filepath']\n",
    "        csv_urls.append(f\"https://raw.githubusercontent.com/{username}/{repo}/{branch}/{filepath}\")  \n",
    "elif raw_github.match(hostname):\n",
    "    csv_urls.append(f\"https://raw.githubusercontent.com{path}\")\n",
    "else:\n",
    "    csv_urls.append(uri)\n",
    "    \n",
    "csv_urls"
   ]
  },
  {
   "cell_type": "code",
   "execution_count": 4,
   "id": "9cb840db-80d0-482a-9d02-3298a223566f",
   "metadata": {
    "pycharm": {
     "name": "#%%\n"
    }
   },
   "outputs": [],
   "source": [
    "dfs = []\n",
    "\n",
    "for url in csv_urls:\n",
    "    try:\n",
    "        tmp_df = pd.read_csv(url)\n",
    "        dfs.append(tmp_df)\n",
    "    except:\n",
    "        pass"
   ]
  },
  {
   "cell_type": "code",
   "execution_count": 5,
   "id": "6d25028e-8312-45d7-9a10-56acfc90fc24",
   "metadata": {
    "pycharm": {
     "name": "#%%\n"
    }
   },
   "outputs": [],
   "source": [
    "from datetime import datetime\n",
    "\n",
    "df = pd.concat(dfs)\n",
    "df = df.reset_index()\n",
    "\n",
    "date_fmt = re.compile('\\d{4}-\\d{2}-\\d{2}')\n",
    "default_date = datetime.strptime('2000-01-01', '%Y-%m-%d')\n",
    "def default_datestr(val):\n",
    "    if type(val) == str:\n",
    "        if date_fmt.match(val):\n",
    "            return datetime.strptime(val, '%Y-%m-%d')\n",
    "    \n",
    "    return default_date\n",
    "    \n",
    "df['Start Date'] = df['Start Date'].apply(default_datestr)\n",
    "df['End Date'] = df['End Date'].apply(default_datestr)\n",
    "df['Talk Deadline'] = df['Talk Deadline'].apply(default_datestr)\n",
    "df['Tutorial Deadline'] = df['Tutorial Deadline'].apply(default_datestr)\n"
   ]
  },
  {
   "cell_type": "code",
   "execution_count": 6,
   "id": "40edecc5-cddc-4143-8f39-4fea17d51765",
   "metadata": {
    "pycharm": {
     "name": "#%%\n"
    }
   },
   "outputs": [
    {
     "data": {
      "text/html": [
       "<div>\n",
       "<style scoped>\n",
       "    .dataframe tbody tr th:only-of-type {\n",
       "        vertical-align: middle;\n",
       "    }\n",
       "\n",
       "    .dataframe tbody tr th {\n",
       "        vertical-align: top;\n",
       "    }\n",
       "\n",
       "    .dataframe thead th {\n",
       "        text-align: right;\n",
       "    }\n",
       "</style>\n",
       "<table border=\"1\" class=\"dataframe\">\n",
       "  <thead>\n",
       "    <tr style=\"text-align: right;\">\n",
       "      <th></th>\n",
       "      <th>index</th>\n",
       "      <th>Subject</th>\n",
       "      <th>Start Date</th>\n",
       "      <th>End Date</th>\n",
       "      <th>Location</th>\n",
       "      <th>Country</th>\n",
       "      <th>Venue</th>\n",
       "      <th>Tutorial Deadline</th>\n",
       "      <th>Talk Deadline</th>\n",
       "      <th>Website URL</th>\n",
       "      <th>Proposal URL</th>\n",
       "      <th>Sponsorship URL</th>\n",
       "    </tr>\n",
       "  </thead>\n",
       "  <tbody>\n",
       "    <tr>\n",
       "      <th>195</th>\n",
       "      <td>0</td>\n",
       "      <td>PyCon France</td>\n",
       "      <td>2023-02-16</td>\n",
       "      <td>2023-02-19</td>\n",
       "      <td>Bordeaux, France</td>\n",
       "      <td>FRA</td>\n",
       "      <td>Université Bordeaux</td>\n",
       "      <td>2000-01-01</td>\n",
       "      <td>2023-01-07</td>\n",
       "      <td>https://www.pycon.fr/2023/</td>\n",
       "      <td>https://cfp-2023.pycon.fr/cfp/</td>\n",
       "      <td>https://www.pycon.fr/2023/fr/support.html</td>\n",
       "    </tr>\n",
       "    <tr>\n",
       "      <th>196</th>\n",
       "      <td>1</td>\n",
       "      <td>PyCon Namibia 2023</td>\n",
       "      <td>2023-02-21</td>\n",
       "      <td>2023-02-23</td>\n",
       "      <td>Windhoek, Namibia</td>\n",
       "      <td>NAM</td>\n",
       "      <td></td>\n",
       "      <td>2023-01-22</td>\n",
       "      <td>2023-01-22</td>\n",
       "      <td>https://na.pycon.org</td>\n",
       "      <td>https://pretalx.com/pycon-namibia-2022/cfp</td>\n",
       "      <td>https://na.pycon.org/sponsorship/</td>\n",
       "    </tr>\n",
       "    <tr>\n",
       "      <th>197</th>\n",
       "      <td>2</td>\n",
       "      <td>GeoPython 2023</td>\n",
       "      <td>2023-03-06</td>\n",
       "      <td>2023-03-08</td>\n",
       "      <td>Basel, Switzerland</td>\n",
       "      <td>CHE</td>\n",
       "      <td>FHNW</td>\n",
       "      <td>2000-01-01</td>\n",
       "      <td>2000-01-01</td>\n",
       "      <td>https://2023.geopython.net</td>\n",
       "      <td>https://submit.geopython.net/geopython-2023/cfp</td>\n",
       "      <td></td>\n",
       "    </tr>\n",
       "    <tr>\n",
       "      <th>198</th>\n",
       "      <td>3</td>\n",
       "      <td>PyTexas 2023</td>\n",
       "      <td>2023-04-01</td>\n",
       "      <td>2023-04-02</td>\n",
       "      <td>Austin,TX</td>\n",
       "      <td>USA</td>\n",
       "      <td>https://www.pytexas.org/attend/venue</td>\n",
       "      <td>2000-01-01</td>\n",
       "      <td>2023-01-15</td>\n",
       "      <td>https://www.pytexas.org/</td>\n",
       "      <td>https://pretalx.com/pytexas-2023/</td>\n",
       "      <td>https://www.pytexas.org/sponsors/prospectus</td>\n",
       "    </tr>\n",
       "    <tr>\n",
       "      <th>199</th>\n",
       "      <td>4</td>\n",
       "      <td>PyCon DE &amp; PyData Berlin 2023</td>\n",
       "      <td>2023-04-17</td>\n",
       "      <td>2023-04-19</td>\n",
       "      <td>Berlin, Germany</td>\n",
       "      <td>GER</td>\n",
       "      <td>bcc Berlin Congress Center</td>\n",
       "      <td>2023-01-05</td>\n",
       "      <td>2023-01-05</td>\n",
       "      <td>https://2023.pycon.de</td>\n",
       "      <td>https://2023.pycon.de/blog/call-for-proposals/</td>\n",
       "      <td>https://2023.pycon.de/blog/pyconde-pydata-berl...</td>\n",
       "    </tr>\n",
       "    <tr>\n",
       "      <th>200</th>\n",
       "      <td>5</td>\n",
       "      <td>PyCon LT</td>\n",
       "      <td>2023-05-17</td>\n",
       "      <td>2023-05-20</td>\n",
       "      <td>Vilnius, Lithuania</td>\n",
       "      <td>LTU</td>\n",
       "      <td>Vilnius University of Social sciences</td>\n",
       "      <td>2000-01-01</td>\n",
       "      <td>2000-01-01</td>\n",
       "      <td>https://pycon.lt/2023</td>\n",
       "      <td></td>\n",
       "      <td></td>\n",
       "    </tr>\n",
       "    <tr>\n",
       "      <th>201</th>\n",
       "      <td>6</td>\n",
       "      <td>PyCon Italia 2023</td>\n",
       "      <td>2023-05-25</td>\n",
       "      <td>2023-05-28</td>\n",
       "      <td>Florence, Italy</td>\n",
       "      <td>ITA</td>\n",
       "      <td>Grand Hotel Mediterraneo</td>\n",
       "      <td>2023-01-15</td>\n",
       "      <td>2023-01-15</td>\n",
       "      <td>https://pycon.it/en</td>\n",
       "      <td>https://pycon.it/cfp</td>\n",
       "      <td></td>\n",
       "    </tr>\n",
       "    <tr>\n",
       "      <th>202</th>\n",
       "      <td>7</td>\n",
       "      <td>EuroPython</td>\n",
       "      <td>2023-07-17</td>\n",
       "      <td>2023-07-23</td>\n",
       "      <td></td>\n",
       "      <td></td>\n",
       "      <td></td>\n",
       "      <td>2000-01-01</td>\n",
       "      <td>2000-01-01</td>\n",
       "      <td>https://europython.eu</td>\n",
       "      <td></td>\n",
       "      <td></td>\n",
       "    </tr>\n",
       "    <tr>\n",
       "      <th>203</th>\n",
       "      <td>8</td>\n",
       "      <td>EuroSciPy</td>\n",
       "      <td>2023-08-14</td>\n",
       "      <td>2023-08-18</td>\n",
       "      <td>Basel, Switzerlan</td>\n",
       "      <td>CHE</td>\n",
       "      <td>Kollegienhaus, University of Basel</td>\n",
       "      <td>2000-01-01</td>\n",
       "      <td>2000-01-01</td>\n",
       "      <td>https://www.euroscipy.org</td>\n",
       "      <td></td>\n",
       "      <td></td>\n",
       "    </tr>\n",
       "  </tbody>\n",
       "</table>\n",
       "</div>"
      ],
      "text/plain": [
       "     index                        Subject Start Date   End Date  \\\n",
       "195      0                   PyCon France 2023-02-16 2023-02-19   \n",
       "196      1             PyCon Namibia 2023 2023-02-21 2023-02-23   \n",
       "197      2                 GeoPython 2023 2023-03-06 2023-03-08   \n",
       "198      3                   PyTexas 2023 2023-04-01 2023-04-02   \n",
       "199      4  PyCon DE & PyData Berlin 2023 2023-04-17 2023-04-19   \n",
       "200      5                       PyCon LT 2023-05-17 2023-05-20   \n",
       "201      6              PyCon Italia 2023 2023-05-25 2023-05-28   \n",
       "202      7                     EuroPython 2023-07-17 2023-07-23   \n",
       "203      8                      EuroSciPy 2023-08-14 2023-08-18   \n",
       "\n",
       "               Location Country                                  Venue  \\\n",
       "195    Bordeaux, France     FRA                    Université Bordeaux   \n",
       "196   Windhoek, Namibia     NAM                                          \n",
       "197  Basel, Switzerland     CHE                                   FHNW   \n",
       "198           Austin,TX     USA   https://www.pytexas.org/attend/venue   \n",
       "199     Berlin, Germany     GER             bcc Berlin Congress Center   \n",
       "200  Vilnius, Lithuania     LTU  Vilnius University of Social sciences   \n",
       "201     Florence, Italy     ITA               Grand Hotel Mediterraneo   \n",
       "202                                                                      \n",
       "203   Basel, Switzerlan     CHE     Kollegienhaus, University of Basel   \n",
       "\n",
       "    Tutorial Deadline Talk Deadline                 Website URL  \\\n",
       "195        2000-01-01    2023-01-07  https://www.pycon.fr/2023/   \n",
       "196        2023-01-22    2023-01-22        https://na.pycon.org   \n",
       "197        2000-01-01    2000-01-01  https://2023.geopython.net   \n",
       "198        2000-01-01    2023-01-15    https://www.pytexas.org/   \n",
       "199        2023-01-05    2023-01-05       https://2023.pycon.de   \n",
       "200        2000-01-01    2000-01-01       https://pycon.lt/2023   \n",
       "201        2023-01-15    2023-01-15         https://pycon.it/en   \n",
       "202        2000-01-01    2000-01-01       https://europython.eu   \n",
       "203        2000-01-01    2000-01-01   https://www.euroscipy.org   \n",
       "\n",
       "                                        Proposal URL  \\\n",
       "195                   https://cfp-2023.pycon.fr/cfp/   \n",
       "196       https://pretalx.com/pycon-namibia-2022/cfp   \n",
       "197  https://submit.geopython.net/geopython-2023/cfp   \n",
       "198                https://pretalx.com/pytexas-2023/   \n",
       "199   https://2023.pycon.de/blog/call-for-proposals/   \n",
       "200                                                    \n",
       "201                             https://pycon.it/cfp   \n",
       "202                                                    \n",
       "203                                                    \n",
       "\n",
       "                                       Sponsorship URL  \n",
       "195          https://www.pycon.fr/2023/fr/support.html  \n",
       "196                  https://na.pycon.org/sponsorship/  \n",
       "197                                                     \n",
       "198        https://www.pytexas.org/sponsors/prospectus  \n",
       "199  https://2023.pycon.de/blog/pyconde-pydata-berl...  \n",
       "200                                                     \n",
       "201                                                     \n",
       "202                                                     \n",
       "203                                                     "
      ]
     },
     "execution_count": 6,
     "metadata": {},
     "output_type": "execute_result"
    }
   ],
   "source": [
    "from datetime import datetime\n",
    "\n",
    "\n",
    "tmp_df['Start Date'] = pd.to_datetime(df['Start Date'])\n",
    "tmp_df['End Date'] = pd.to_datetime(df['End Date'])\n",
    "tmp_df['Talk Deadline'] = pd.to_datetime(df['Talk Deadline'])\n",
    "tmp_df['Tutorial Deadline'] = pd.to_datetime(df['Tutorial Deadline'])\n",
    "df.fillna('', inplace=True)\n",
    "\n",
    "next_events = df[df['Start Date'] > datetime.now()]\n",
    "next_events"
   ]
  },
  {
   "cell_type": "code",
   "execution_count": 32,
   "id": "abf90b9c-dd20-4eb6-a053-672fa07778b1",
   "metadata": {
    "pycharm": {
     "name": "#%%\n"
    }
   },
   "outputs": [
    {
     "data": {
      "text/plain": [
       "dict_keys(['2023-2-16', '2023-2-21', '2023-3-6', '2023-4-1', '2023-4-17', '2023-5-17', '2023-5-25', '2023-7-17', '2023-8-14'])"
      ]
     },
     "execution_count": 32,
     "metadata": {},
     "output_type": "execute_result"
    }
   ],
   "source": [
    "events = {}\n",
    "for row in next_events.iterrows():\n",
    "    key = f\"{row[1]['Start Date'].year}-{row[1]['Start Date'].month}-{row[1]['Start Date'].day}\"\n",
    "    near_events = events.get(key, [])\n",
    "    near_events.append(row[1])\n",
    "    events[key] = near_events\n",
    "\n",
    "    \n",
    "proposals = {}\n",
    "for row in next_events.sort_values(by=['Talk Deadline']).iterrows():\n",
    "    key = f\"{row[1]['Talk Deadline'].year}-{row[1]['Talk Deadline'].month}-{row[1]['Talk Deadline'].day}\"\n",
    "    near_events = proposals.get(key, [])\n",
    "    near_events.append(row[1])\n",
    "    proposals[key] = near_events\n",
    "    \n",
    "    \n",
    "events.keys()"
   ]
  },
  {
   "cell_type": "code",
   "execution_count": 34,
   "id": "e4cec53b-16ee-4674-a824-e96c2c7039bd",
   "metadata": {
    "pycharm": {
     "name": "#%%\n"
    }
   },
   "outputs": [
    {
     "data": {
      "text/plain": [
       "['# Conference Planner\\n',\n",
       " '## Upcoming Proposal Deadlines\\n',\n",
       " '### Sunday, January 15, 2023\\n',\n",
       " '- [PyTexas 2023 Talk Proposals Due](https://pretalx.com/pytexas-2023/)\\n\\n',\n",
       " '- [PyCon Italia 2023 Talk Proposals Due](https://pycon.it/cfp)\\n\\n',\n",
       " '### Sunday, January 22, 2023\\n',\n",
       " '- [PyCon Namibia 2023 Talk Proposals Due](https://pretalx.com/pycon-namibia-2022/cfp)\\n\\n',\n",
       " '## Upcoming Conferences\\n',\n",
       " '### Thursday, February 16, 2023\\n',\n",
       " '- [PyCon France](https://www.pycon.fr/2023/)\\n\\n',\n",
       " '### Tuesday, February 21, 2023\\n',\n",
       " '- [PyCon Namibia 2023](https://na.pycon.org)\\n\\n',\n",
       " '### Monday, March 06, 2023\\n',\n",
       " '- [GeoPython 2023](https://2023.geopython.net)\\n\\n',\n",
       " '### Saturday, April 01, 2023\\n',\n",
       " '- [PyTexas 2023](https://www.pytexas.org/)\\n\\n',\n",
       " '### Monday, April 17, 2023\\n',\n",
       " '- [PyCon DE & PyData Berlin 2023](https://2023.pycon.de)\\n\\n',\n",
       " '### Wednesday, May 17, 2023\\n',\n",
       " '- [PyCon LT](https://pycon.lt/2023)\\n\\n',\n",
       " '### Thursday, May 25, 2023\\n',\n",
       " '- [PyCon Italia 2023](https://pycon.it/en)\\n\\n',\n",
       " '### Monday, July 17, 2023\\n',\n",
       " '- [EuroPython](https://europython.eu)\\n\\n',\n",
       " '### Monday, August 14, 2023\\n',\n",
       " '- [EuroSciPy](https://www.euroscipy.org)\\n\\n']"
      ]
     },
     "execution_count": 34,
     "metadata": {},
     "output_type": "execute_result"
    }
   ],
   "source": [
    "import calendar\n",
    "\n",
    "lines = [\n",
    "  \"# Conference Planner\\n\",\n",
    "]\n",
    "\n",
    "default_date = datetime.strptime('2000-01-01', '%Y-%m-%d')\n",
    "\n",
    "\n",
    "def get_date_or_default(val):\n",
    "    datestr = datetime.strptime(val, \"%Y-%m-%d\")\n",
    "    if datestr == \"2000-01-01\":\n",
    "        return ''\n",
    "    \n",
    "    return datestr\n",
    "\n",
    "line = \"## Upcoming Proposal Deadlines\\n\"\n",
    "lines.append(line)\n",
    "for (key, current_events) in proposals.items():\n",
    "    deadline = get_date_or_default(key)\n",
    "    if deadline <= datetime.now():\n",
    "            continue\n",
    "    line = deadline.strftime(\"### %A, %B %d, %Y\\n\")\n",
    "    lines.append(line)\n",
    "\n",
    "    for event in current_events:\n",
    "        line = f\"- [{event['Subject']} Talk Proposals Due]({event['Proposal URL']})\\n\\n\"\n",
    "        lines.append(line)\n",
    "        \n",
    "line = \"## Upcoming Conferences\\n\"\n",
    "lines.append(line)\n",
    "for (key, current_events) in events.items():\n",
    "    deadline = get_date_or_default(key)\n",
    "    if deadline <= datetime.now():\n",
    "        continue\n",
    "    line = deadline.strftime(\"### %A, %B %d, %Y\\n\")\n",
    "    lines.append(line)\n",
    "\n",
    "    for event in current_events:\n",
    "        line = f\"- [{event['Subject']}]({event['Website URL']})\\n\\n\"\n",
    "        lines.append(line)\n",
    "        \n",
    "        \n",
    "lines"
   ]
  },
  {
   "cell_type": "code",
   "execution_count": 35,
   "id": "b8ec1a85-0bf8-4faf-a8fd-d23489d0f434",
   "metadata": {
    "pycharm": {
     "name": "#%%\n"
    }
   },
   "outputs": [],
   "source": [
    "with open(join(output_folder, 'events.md'), 'wt') as f:\n",
    "    for line in lines:\n",
    "        f.write(line)"
   ]
  }
 ],
 "metadata": {
  "kernelspec": {
   "display_name": "Python 3 (ipykernel)",
   "language": "python",
   "name": "python3"
  },
  "language_info": {
   "codemirror_mode": {
    "name": "ipython",
    "version": 3
   },
   "file_extension": ".py",
   "mimetype": "text/x-python",
   "name": "python",
   "nbconvert_exporter": "python",
   "pygments_lexer": "ipython3",
   "version": "3.10.8"
  }
 },
 "nbformat": 4,
 "nbformat_minor": 5
}
