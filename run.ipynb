{
 "cells": [
  {
   "cell_type": "code",
   "execution_count": null,
   "id": "7082143e-a4f9-4c55-a105-3a62aadc89fe",
   "metadata": {
    "pycharm": {
     "name": "#%%\n"
    }
   },
   "outputs": [],
   "source": [
    "from os import environ\n",
    "input_folder = environ.get('CROSSCOMPUTE_INPUT_FOLDER', 'batches/standard/input')\n",
    "output_folder = environ.get('CROSSCOMPUTE_OUTPUT_FOLDER', 'batches/standard/output')"
   ]
  },
  {
   "cell_type": "code",
   "execution_count": null,
   "id": "25c78709-70e4-45de-9662-12d052276291",
   "metadata": {
    "pycharm": {
     "name": "#%%\n"
    }
   },
   "outputs": [],
   "source": [
    "import json\n",
    "from os.path import join\n",
    "variables = json.load(open(join(input_folder, 'variables.dictionary')))\n",
    "uri = variables['uri']\n",
    "uri"
   ]
  },
  {
   "cell_type": "code",
   "execution_count": null,
   "id": "c4a63d58-32df-44df-8063-64bd3cd2ad7f",
   "metadata": {
    "pycharm": {
     "name": "#%%\n"
    }
   },
   "outputs": [],
   "source": [
    "from urllib.parse import urlparse\n",
    "import requests\n",
    "import re\n",
    "\n",
    "import pandas as pd\n",
    "\n",
    "url = urlparse(uri)\n",
    "# url = urlparse(\"https://github.com/python-organizers/conferences\")\n",
    "# url = urlparse(\"https://github.com/python-organizers/conferences/blob/main/2022.csv\")\n",
    "# url = urlparse(\"https://raw.githubusercontent.com/python-organizers/conferences/main/2022.csv\")\n",
    "hostname = url.hostname\n",
    "path = url.path\n",
    "\n",
    "github = re.compile(r\"^github.com$\", re.IGNORECASE)\n",
    "raw_github = re.compile(r\"^raw.githubusercontent.com$\", re.IGNORECASE)\n",
    "extensions = re.compile(r'\\.(csv|txt)$', re.IGNORECASE)\n",
    "file = re.compile('^/(?P<username>[\\w\\d\\-_]+)/(?P<repo>[\\w\\d\\-_]+)/blob/(?P<branch>[\\w\\d\\-_]+)/(?P<filepath>.*)$', re.IGNORECASE)\n",
    "repo = re.compile('^/(?P<username>[\\w\\d\\-_]+)/(?P<repo>[\\w\\d\\-_]+)$', re.IGNORECASE)\n",
    "\n",
    "\n",
    "csv_urls = []\n",
    "\n",
    "def get_branch_from_repo(username, repo):\n",
    "    repo_api = f\"https://api.github.com/repos/{username}/{repo}\"\n",
    "    response = requests.get(repo_api)\n",
    "    if response.status_code == 200:\n",
    "        repo_json = response.json()\n",
    "        return repo_json[\"default_branch\"]\n",
    "        \n",
    "\n",
    "    return 'master'\n",
    "\n",
    "def get_files_from_repo(username, repo, branch):\n",
    "    repo_api =  f\"https://api.github.com/repos/{username}/{repo}/git/trees/{branch}\"\n",
    "    response = requests.get(repo_api)\n",
    "    if response.status_code == 200:\n",
    "        trees_json = response.json()\n",
    "        return trees_json['tree']\n",
    "        \n",
    "    return []\n",
    "\n",
    "\n",
    "if github.match(hostname):\n",
    "    if repo.match(path):\n",
    "        path_dict = repo.match(path).groupdict()\n",
    "        username = path_dict['username']\n",
    "        repo = path_dict['repo']\n",
    "        branch = get_branch_from_repo(username, repo)\n",
    "        files = get_files_from_repo(username, repo, branch)\n",
    "        for file_metadata in files:\n",
    "            if extensions.search(file_metadata['path']):\n",
    "                csv_urls.append(f\"https://raw.githubusercontent.com/{username}/{repo}/{branch}/{file_metadata['path']}\")\n",
    "                    \n",
    "    elif file.match(path):\n",
    "        path_dict = file.match(path).groupdict()\n",
    "        username = path_dict['username']\n",
    "        repo = path_dict['repo']\n",
    "        branch = path_dict['branch']\n",
    "        filepath = path_dict['filepath']\n",
    "        csv_urls.append(f\"https://raw.githubusercontent.com/{username}/{repo}/{branch}/{filepath}\")  \n",
    "elif raw_github.match(hostname):\n",
    "    csv_urls.append(f\"https://raw.githubusercontent.com{path}\")\n",
    "else:\n",
    "    csv_urls.append(uri)\n",
    "    \n",
    "csv_urls"
   ]
  },
  {
   "cell_type": "code",
   "execution_count": null,
   "id": "9cb840db-80d0-482a-9d02-3298a223566f",
   "metadata": {
    "pycharm": {
     "name": "#%%\n"
    }
   },
   "outputs": [],
   "source": [
    "dfs = []\n",
    "\n",
    "for url in csv_urls:\n",
    "    try:\n",
    "        tmp_df = pd.read_csv(url)\n",
    "        dfs.append(tmp_df)\n",
    "    except:\n",
    "        pass"
   ]
  },
  {
   "cell_type": "code",
   "execution_count": null,
   "id": "6d25028e-8312-45d7-9a10-56acfc90fc24",
   "metadata": {
    "pycharm": {
     "name": "#%%\n"
    }
   },
   "outputs": [],
   "source": [
    "from datetime import datetime\n",
    "\n",
    "df = pd.concat(dfs)\n",
    "df = df.reset_index()\n",
    "\n",
    "date_fmt = re.compile('\\d{4}-\\d{2}-\\d{2}')\n",
    "default_date = datetime.strptime('2000-01-01', '%Y-%m-%d')\n",
    "def default_datestr(val):\n",
    "    if type(val) == str:\n",
    "        if date_fmt.match(val):\n",
    "            return datetime.strptime(val, '%Y-%m-%d')\n",
    "    \n",
    "    return default_date\n",
    "    \n",
    "df['Start Date'] = df['Start Date'].apply(default_datestr)\n",
    "df['End Date'] = df['End Date'].apply(default_datestr)\n",
    "df['Talk Deadline'] = df['Talk Deadline'].apply(default_datestr)\n",
    "df['Tutorial Deadline'] = df['Tutorial Deadline'].apply(default_datestr)\n"
   ]
  },
  {
   "cell_type": "code",
   "execution_count": null,
   "id": "40edecc5-cddc-4143-8f39-4fea17d51765",
   "metadata": {
    "pycharm": {
     "name": "#%%\n"
    }
   },
   "outputs": [],
   "source": [
    "from datetime import datetime\n",
    "\n",
    "\n",
    "tmp_df['Start Date'] = pd.to_datetime(df['Start Date'])\n",
    "tmp_df['End Date'] = pd.to_datetime(df['End Date'])\n",
    "tmp_df['Talk Deadline'] = pd.to_datetime(df['Talk Deadline'])\n",
    "tmp_df['Tutorial Deadline'] = pd.to_datetime(df['Tutorial Deadline'])\n",
    "df.fillna('', inplace=True)\n",
    "\n",
    "next_events = df[df['Start Date'] > datetime.now()]\n",
    "next_events"
   ]
  },
  {
   "cell_type": "code",
   "execution_count": null,
   "id": "abf90b9c-dd20-4eb6-a053-672fa07778b1",
   "metadata": {
    "pycharm": {
     "name": "#%%\n"
    }
   },
   "outputs": [],
   "source": [
    "events = {}\n",
    "for row in next_events.iterrows():\n",
    "    key = f\"{row[1]['Start Date'].year}-{row[1]['Start Date'].month}-{row[1]['Start Date'].day}\"\n",
    "    near_events = events.get(key, [])\n",
    "    near_events.append(row[1])\n",
    "    events[key] = near_events\n",
    "\n",
    "    \n",
    "proposals = {}\n",
    "for row in next_events.sort_values(by=['Talk Deadline']).iterrows():\n",
    "    key = f\"{row[1]['Talk Deadline'].year}-{row[1]['Talk Deadline'].month}-{row[1]['Talk Deadline'].day}\"\n",
    "    near_events = proposals.get(key, [])\n",
    "    near_events.append(row[1])\n",
    "    proposals[key] = near_events\n",
    "    \n",
    "    \n",
    "events.keys()"
   ]
  },
  {
   "cell_type": "code",
   "execution_count": null,
   "id": "e4cec53b-16ee-4674-a824-e96c2c7039bd",
   "metadata": {
    "pycharm": {
     "name": "#%%\n"
    }
   },
   "outputs": [],
   "source": [
    "import calendar\n",
    "\n",
    "lines = [\n",
    "  \"# Conference Planner\\n\",\n",
    "]\n",
    "\n",
    "default_date = datetime.strptime('2000-01-01', '%Y-%m-%d')\n",
    "\n",
    "\n",
    "def get_date_or_default(val):\n",
    "    datestr = datetime.strptime(val, \"%Y-%m-%d\")\n",
    "    if datestr == \"2000-01-01\":\n",
    "        return ''\n",
    "    \n",
    "    return datestr\n",
    "\n",
    "line = \"## Upcoming Proposal Deadlines\\n\"\n",
    "lines.append(line)\n",
    "for (key, current_events) in proposals.items():\n",
    "    deadline = get_date_or_default(key)\n",
    "    if deadline <= datetime.now():\n",
    "            continue\n",
    "    line = deadline.strftime(\"### %A, %B %d, %Y\\n\")\n",
    "    lines.append(line)\n",
    "\n",
    "    for event in current_events:\n",
    "        line = f\"- [{event['Subject']} Talk Proposals Due]({event['Proposal URL']})\\n\\n\"\n",
    "        lines.append(line)\n",
    "        \n",
    "line = \"## Upcoming Conferences\\n\"\n",
    "lines.append(line)\n",
    "for (key, current_events) in events.items():\n",
    "    deadline = get_date_or_default(key)\n",
    "    if deadline <= datetime.now():\n",
    "        continue\n",
    "    line = deadline.strftime(\"### %A, %B %d, %Y\\n\")\n",
    "    lines.append(line)\n",
    "\n",
    "    for event in current_events:\n",
    "        line = f\"- [{event['Subject']}]({event['Website URL']})\\n\\n\"\n",
    "        lines.append(line)\n",
    "        \n",
    "        \n",
    "lines"
   ]
  },
  {
   "cell_type": "code",
   "execution_count": null,
   "id": "b8ec1a85-0bf8-4faf-a8fd-d23489d0f434",
   "metadata": {
    "pycharm": {
     "name": "#%%\n"
    }
   },
   "outputs": [],
   "source": [
    "with open(join(output_folder, 'events.md'), 'wt') as f:\n",
    "    for line in lines:\n",
    "        f.write(line)"
   ]
  }
 ],
 "metadata": {
  "kernelspec": {
   "display_name": "Python 3 (ipykernel)",
   "language": "python",
   "name": "python3"
  },
  "language_info": {
   "codemirror_mode": {
    "name": "ipython",
    "version": 3
   },
   "file_extension": ".py",
   "mimetype": "text/x-python",
   "name": "python",
   "nbconvert_exporter": "python",
   "pygments_lexer": "ipython3",
   "version": "3.10.8"
  }
 },
 "nbformat": 4,
 "nbformat_minor": 5
}
