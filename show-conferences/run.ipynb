{
 "cells": [
  {
   "cell_type": "code",
   "execution_count": null,
   "id": "7082143e-a4f9-4c55-a105-3a62aadc89fe",
   "metadata": {
    "pycharm": {
     "name": "#%%\n"
    },
    "tags": []
   },
   "outputs": [],
   "source": [
    "from os import environ\n",
    "from pathlib import Path\n",
    "\n",
    "input_folder = Path(environ.get(\n",
    "    'CROSSCOMPUTE_INPUT_FOLDER', 'batches/standard/input'))\n",
    "output_folder = Path(environ.get(\n",
    "    'CROSSCOMPUTE_OUTPUT_FOLDER', 'batches/standard/output'))\n",
    "output_folder.mkdir(parents=True, exist_ok=True)"
   ]
  },
  {
   "cell_type": "code",
   "execution_count": null,
   "id": "25c78709-70e4-45de-9662-12d052276291",
   "metadata": {
    "pycharm": {
     "name": "#%%\n"
    },
    "tags": []
   },
   "outputs": [],
   "source": [
    "import json\n",
    "from os.path import join\n",
    "\n",
    "with (input_folder / 'variables.dictionary').open('rt') as f:\n",
    "    variables = json.load(f)\n",
    "page_title = variables['page_title']\n",
    "source_uri = variables['source_uri']\n",
    "# source_uri = 'https://github.com/python-organizers/conferences'\n",
    "# source_uri = 'https://github.com/python-organizers/conferences/blob/main/2022.csv'\n",
    "# source_uri = 'https://raw.githubusercontent.com/python-organizers/conferences/main/2022.csv'\n",
    "source_uri"
   ]
  },
  {
   "cell_type": "code",
   "execution_count": null,
   "id": "e3cdc360-95ce-47bb-8f1c-98193a0c6dac",
   "metadata": {
    "pycharm": {
     "name": "#%%\n"
    },
    "tags": []
   },
   "outputs": [],
   "source": [
    "import re\n",
    "\n",
    "PATH_REPOSITORY_PATTERN = re.compile(\n",
    "    r'^/(?P<user_name>[\\w\\d\\-_]+)/(?P<repository_name>[\\w\\d\\-_]+)', re.IGNORECASE)\n",
    "PATH_FILE_PATTERN = re.compile(\n",
    "    r'/blob/(?P<branch_name>[\\w\\d\\-_]+)/(?P<file_path>.*)$', re.IGNORECASE)\n",
    "FILE_EXTENSIONS = ['.csv']"
   ]
  },
  {
   "cell_type": "code",
   "execution_count": null,
   "id": "1850de21-7da3-44b9-a5ed-bf3604bacaa8",
   "metadata": {
    "pycharm": {
     "name": "#%%\n"
    },
    "tags": []
   },
   "outputs": [],
   "source": [
    "import requests\n",
    "\n",
    "def get_branch_name(user_name, repository_name):\n",
    "    request_uri = f'https://api.github.com/repos/{user_name}/{repository_name}'\n",
    "    response = requests.get(request_uri)\n",
    "    if response.status_code == 200:\n",
    "        response_d = response.json()\n",
    "        branch_name = response_d['default_branch']\n",
    "    else:\n",
    "        branch_name = 'master'\n",
    "    return branch_name\n",
    "\n",
    "def get_file_paths(user_name, repository_name, branch_name):\n",
    "    request_uri = f'https://api.github.com/repos/{user_name}/{repository_name}/git/trees/{branch_name}'\n",
    "    response = requests.get(request_uri)\n",
    "    file_paths = []\n",
    "    if response.status_code == 200:\n",
    "        response_d = response.json()\n",
    "        file_ds = response_d['tree']\n",
    "        # TODO: Consider getting paths from folders\n",
    "        file_paths.extend(_['path'] for _ in file_ds)\n",
    "    return file_paths"
   ]
  },
  {
   "cell_type": "code",
   "execution_count": null,
   "id": "798a5941-a0a6-4513-8715-de00f5c74a04",
   "metadata": {
    "tags": []
   },
   "outputs": [],
   "source": [
    "from os.path import splitext\n",
    "from urllib.parse import urlparse as parse_uri\n",
    "\n",
    "def get_source_uris(uri):\n",
    "    parsed_uri = parse_uri(uri)\n",
    "    hostname = parsed_uri.hostname\n",
    "    path = parsed_uri.path\n",
    "    source_uris = []\n",
    "    if hostname == 'github.com':\n",
    "        path_repository_match = PATH_REPOSITORY_PATTERN.match(path)\n",
    "        path_file_match = PATH_FILE_PATTERN.search(path)\n",
    "        if path_repository_match:\n",
    "            path_repository_d = path_repository_match.groupdict()\n",
    "            user_name = path_repository_d['user_name']\n",
    "            repository_name = path_repository_d['repository_name']\n",
    "            if path_file_match:\n",
    "                branch_name = path_repository_d['branch_name']\n",
    "            else:\n",
    "                branch_name = get_branch_name(user_name, repository_name)\n",
    "                for file_path in get_file_paths(user_name, repository_name, branch_name):\n",
    "                    file_extension = splitext(file_path)[1].lower()\n",
    "                    if file_extension not in FILE_EXTENSIONS:\n",
    "                        continue\n",
    "                    source_uris.append(\n",
    "                        f'https://raw.githubusercontent.com/{user_name}/{repository_name}/{branch_name}/{file_path}')\n",
    "    else:\n",
    "        source_uris.append(uri)\n",
    "    return sorted(source_uris)\n",
    "\n",
    "source_uris = get_source_uris(source_uri)\n",
    "source_uris"
   ]
  },
  {
   "cell_type": "code",
   "execution_count": null,
   "id": "6f52091e-8ad9-4936-b11a-aed7d773408d",
   "metadata": {
    "pycharm": {
     "name": "#%%\n"
    },
    "tags": []
   },
   "outputs": [],
   "source": [
    "import pandas as pd\n",
    "\n",
    "source_tables = []\n",
    "for uri in source_uris:\n",
    "    try:\n",
    "        t = pd.read_csv(uri)\n",
    "        source_tables.append(t)\n",
    "    except Exception:\n",
    "        pass"
   ]
  },
  {
   "cell_type": "code",
   "execution_count": null,
   "id": "f04732df-9483-4f9d-b8fa-7498e8848ae6",
   "metadata": {
    "pycharm": {
     "name": "#%%\n"
    },
    "tags": []
   },
   "outputs": [],
   "source": [
    "source_table = pd.concat(source_tables)\n",
    "for c in [\n",
    "    'Start Date',\n",
    "    'End Date',\n",
    "    'Talk Deadline',\n",
    "]:\n",
    "    source_table[c] = pd.to_datetime(source_table[c], errors='coerce')\n",
    "source_table.reset_index(drop=True, inplace=True)\n",
    "source_table.dropna(subset=['Start Date', 'End Date'], inplace=True)\n",
    "source_table[:2]"
   ]
  },
  {
   "cell_type": "code",
   "execution_count": null,
   "id": "365d932e-815d-4e2a-92d5-09d05faecbfc",
   "metadata": {
    "tags": []
   },
   "outputs": [],
   "source": [
    "from datetime import datetime\n",
    "\n",
    "now_datetime = datetime.now()\n",
    "event_table = source_table[source_table['End Date'] >= now_datetime]\n",
    "len(event_table)"
   ]
  },
  {
   "cell_type": "code",
   "execution_count": null,
   "id": "13602c2e-0e64-4008-8a78-976b78c7267c",
   "metadata": {
    "tags": []
   },
   "outputs": [],
   "source": [
    "from collections import defaultdict\n",
    "\n",
    "def get_next_events(t, k, f):\n",
    "    t = t[t[k] >= now_datetime]\n",
    "    return get_events(t, k, f)\n",
    "\n",
    "def get_events(t, k, f):\n",
    "    d = defaultdict(list)\n",
    "    for i, r in t.sort_values(by=k).iterrows():\n",
    "        this_datetime = r[k]\n",
    "        if this_datetime < now_datetime:\n",
    "            this_datetime = now_datetime\n",
    "        d[f(this_datetime)].append(r)\n",
    "    return dict(d)"
   ]
  },
  {
   "cell_type": "code",
   "execution_count": null,
   "id": "eddea343-3388-4f16-9252-1c93233de78c",
   "metadata": {
    "tags": []
   },
   "outputs": [],
   "source": [
    "def get_timestamp(x):\n",
    "    return x.strftime('%Y %B')\n",
    "\n",
    "proposals = get_next_events(\n",
    "    event_table, 'Talk Deadline', get_timestamp)\n",
    "conferences = get_events(\n",
    "    event_table, 'Start Date', get_timestamp)"
   ]
  },
  {
   "cell_type": "code",
   "execution_count": null,
   "id": "4870c987-a0bd-4ded-930e-e4505c3e2d0a",
   "metadata": {},
   "outputs": [],
   "source": [
    "def get_proposal_text(r):\n",
    "    proposal_datetime = r['Talk Deadline']\n",
    "    if pd.isna(proposal_datetime) or proposal_datetime < now_datetime:\n",
    "        return ''\n",
    "    proposal_text = ' and '\n",
    "    proposal_url = r['Proposal URL']\n",
    "    proposal_datestamp = proposal_datetime.strftime(datestamp_format)\n",
    "    if proposal_url:\n",
    "        proposal_text += (\n",
    "            f'[proposals are due {proposal_datestamp}]({proposal_url})')\n",
    "    else:\n",
    "        proposal_text += (\n",
    "            f'proposals are due {proposal_datestamp}')\n",
    "    return proposal_text"
   ]
  },
  {
   "cell_type": "code",
   "execution_count": null,
   "id": "1ac3b1f4-512d-4723-82c9-eb8a61cca064",
   "metadata": {
    "tags": []
   },
   "outputs": [],
   "source": [
    "lines = [f'# {page_title}']\n",
    "datestamp_format = '%A, %B %d, %Y'\n",
    "\n",
    "def extend_lines(subtitle, events):\n",
    "    if not events:\n",
    "        return\n",
    "    lines.append(f'## Upcoming {subtitle}')\n",
    "    for timestamp, rows in events.items():\n",
    "        lines.append(f'### {timestamp}')\n",
    "        for r in rows:\n",
    "            subject = r['Subject']\n",
    "            start_datetime = r['Start Date']\n",
    "            end_datetime = r['End Date']\n",
    "            website_url = r['Website URL']\n",
    "            proposal_text = get_proposal_text(r)\n",
    "            lines.append(\n",
    "                f'- [{subject}]({website_url}) is '\n",
    "                f'from {start_datetime.strftime(datestamp_format)} '\n",
    "                f'to {end_datetime.strftime(datestamp_format)}' + proposal_text)"
   ]
  },
  {
   "cell_type": "code",
   "execution_count": null,
   "id": "afde2c4c-96ae-4e14-abf4-e501f24c1447",
   "metadata": {
    "tags": []
   },
   "outputs": [],
   "source": [
    "extend_lines('Proposals', proposals)\n",
    "extend_lines('Conferences', conferences)\n",
    "lines.append(f'\\nSee {source_uri}.')"
   ]
  },
  {
   "cell_type": "code",
   "execution_count": null,
   "id": "b8ec1a85-0bf8-4faf-a8fd-d23489d0f434",
   "metadata": {
    "pycharm": {
     "name": "#%%\n"
    }
   },
   "outputs": [],
   "source": [
    "with (output_folder / 'calendar.md').open('wt') as f:\n",
    "    f.write('\\n'.join(lines))"
   ]
  }
 ],
 "metadata": {
  "kernelspec": {
   "display_name": "Python 3 (ipykernel)",
   "language": "python",
   "name": "python3"
  },
  "language_info": {
   "codemirror_mode": {
    "name": "ipython",
    "version": 3
   },
   "file_extension": ".py",
   "mimetype": "text/x-python",
   "name": "python",
   "nbconvert_exporter": "python",
   "pygments_lexer": "ipython3",
   "version": "3.10.11"
  }
 },
 "nbformat": 4,
 "nbformat_minor": 5
}
